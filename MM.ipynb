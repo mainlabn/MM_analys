{
 "cells": [
  {
   "cell_type": "code",
   "execution_count": 108,
   "outputs": [],
   "source": [
    "import vk\n",
    "import pandas as pd\n",
    "import json\n",
    "import time\n",
    "from pandas import json_normalize"
   ],
   "metadata": {
    "collapsed": false
   }
  },
  {
   "cell_type": "code",
   "execution_count": 109,
   "outputs": [],
   "source": [
    "\n",
    "v='5.89'\n",
    "api = vk.API(access_token='vk1.a._KsTsa8wau2jsv2iCt80iIj-z2gu7Y978RoBwh4jnZOZymVH_nR4EFJ-7Jj0tqL1SAA6T9jnVOXKMLlGUL1O3-gH8KmBirDjBe7AbrzfBsd5voGelouCQTWcasNqpRpxUKjEIftzpbahGTPyIi5Coxu2lR_rtjIMMwgyyPpq3S_JlTpnKFcNTf5ClHu1hHySNtmEEEVTnWtVjhVsJCVCpQ',v=v)\n",
    "\n",
    "\n"
   ],
   "metadata": {
    "collapsed": false
   }
  },
  {
   "cell_type": "code",
   "execution_count": 110,
   "outputs": [
    {
     "data": {
      "text/plain": "[436090772, 371599152, 259775630]"
     },
     "execution_count": 110,
     "metadata": {},
     "output_type": "execute_result"
    }
   ],
   "source": [
    "users=['https://vk.com/yourdevils18','https://vk.com/privet.andreii','https://vk.com/danbase']\n",
    "for i,user in enumerate(users):\n",
    "    users[i]=user.replace('https://vk.com/','')\n",
    "\n",
    "\n",
    "def getUserId(users):\n",
    "    users_ids=[]\n",
    "    for user in users:\n",
    "        user_id=api.users.get(user_id=user)[0]['id']\n",
    "        users_ids.append(user_id)\n",
    "    return users_ids\n",
    "\n",
    "\n",
    "users_ids=getUserId(users)\n",
    "users_ids\n",
    "\n"
   ],
   "metadata": {
    "collapsed": false
   }
  },
  {
   "cell_type": "code",
   "execution_count": 117,
   "outputs": [
    {
     "name": "stdout",
     "output_type": "stream",
     "text": [
      "436090772\n",
      "{'count': 68, 'items': [9309774, 11097036, 14527278, 31696367, 50942452, 54963874, 65288289, 69238545, 79026232, 83746278, 110944777, 112635468, 128021100, 136236702, 138681848, 155850934, 161898956, 162185289, 168410616, 171552430, 175004783, 176960226, 186051060, 204187414, 206343941, 206810939, 209358996, 213381410, 217792834, 222097213, 223708328, 227385047, 228094579, 232196719, 235138208, 239082935, 242453578, 245987815, 254903449, 259142245, 259775630, 259997686, 260436059, 264897645, 267272297, 274256334, 313160962, 320128151, 320395898, 323654475, 332890817, 334226357, 338236043, 343753700, 353273135, 362624128, 371599152, 374127310, 387665230, 394027876, 394070022, 417076950, 460374034, 493286957, 497702571, 510031375, 717068122, 718399676]}\n",
      "{'count': 100, 'items': [187289777, 73408049, 153296449, 178282306, 153823581, 134506306, 146062039, 29725575, 215633780, 211200114, 75561291, 197808636, 191623389, 213209830, 78522286, 64729046, 200063444, 58265344, 167138278, 188091917, 191021025, 186208863, 56169357, 133154650, 43214791, 91050183, 174897923, 71729358, 211482550, 195177378, 28905875, 10955211, 12353330, 15199107, 21082539, 22822305, 23308460, 27895931, 29246653, 30637940, 31635757, 33494375, 35551136, 36164349, 38634441, 38676112, 39444069, 39924694, 44554509, 44901473, 45595714, 58170807, 59199907, 62808640, 66490406, 66678575, 66788329, 66893952, 69347719, 72896304, 80040324, 87010855, 88799721, 90937359, 103083994, 103948290, 105829519, 107812272, 111869067, 112510790, 112838548, 112996378, 113766658, 128461412, 132178910, 133847909, 134089412, 136474608, 141352710, 141905771, 141959356, 142213594, 142825724, 143161688, 145637987, 145837755, 149594529, 152029585, 162267134, 162337924, 164141329, 166191518, 171746322, 171938396, 172807619, 172936085, 176024577, 177578354, 178744427, 194995241]}\n",
      "1\n",
      "436090772\n"
     ]
    },
    {
     "ename": "TypeError",
     "evalue": "unhashable type: 'list'",
     "output_type": "error",
     "traceback": [
      "\u001B[1;31m---------------------------------------------------------------------------\u001B[0m",
      "\u001B[1;31mTypeError\u001B[0m                                 Traceback (most recent call last)",
      "Cell \u001B[1;32mIn[117], line 70\u001B[0m\n\u001B[0;32m     68\u001B[0m time\u001B[38;5;241m.\u001B[39msleep(\u001B[38;5;241m3\u001B[39m)\n\u001B[0;32m     69\u001B[0m getAvatar(user_id)\n\u001B[1;32m---> 70\u001B[0m \u001B[43mgetUserInfo\u001B[49m\u001B[43m(\u001B[49m\u001B[43muser_id\u001B[49m\u001B[43m)\u001B[49m\n\u001B[0;32m     71\u001B[0m df[\u001B[38;5;124m'\u001B[39m\u001B[38;5;124muser_id\u001B[39m\u001B[38;5;124m'\u001B[39m]\u001B[38;5;241m=\u001B[39m\u001B[38;5;28mstr\u001B[39m(user_id)\n\u001B[0;32m     72\u001B[0m df\n",
      "Cell \u001B[1;32mIn[117], line 52\u001B[0m, in \u001B[0;36mgetUserInfo\u001B[1;34m(owner_id)\u001B[0m\n\u001B[0;32m     50\u001B[0m \u001B[38;5;28;01mdef\u001B[39;00m \u001B[38;5;21mgetUserInfo\u001B[39m(owner_id):\n\u001B[0;32m     51\u001B[0m     \u001B[38;5;28mprint\u001B[39m(owner_id)\n\u001B[1;32m---> 52\u001B[0m     data_info\u001B[38;5;241m=\u001B[39m\u001B[43mapi\u001B[49m\u001B[38;5;241;43m.\u001B[39;49m\u001B[43musers\u001B[49m\u001B[38;5;241;43m.\u001B[39;49m\u001B[43mget\u001B[49m\u001B[43m(\u001B[49m\u001B[43muser_ids\u001B[49m\u001B[38;5;241;43m=\u001B[39;49m\u001B[43mowner_id\u001B[49m\u001B[43m,\u001B[49m\u001B[43mfields\u001B[49m\u001B[38;5;241;43m=\u001B[39;49m\u001B[43m[\u001B[49m\u001B[38;5;124;43m'\u001B[39;49m\u001B[38;5;124;43mabout\u001B[39;49m\u001B[38;5;124;43m'\u001B[39;49m\u001B[43m,\u001B[49m\u001B[38;5;124;43m'\u001B[39;49m\u001B[38;5;124;43mactivities\u001B[39;49m\u001B[38;5;124;43m'\u001B[39;49m\u001B[43m,\u001B[49m\u001B[38;5;124;43m'\u001B[39;49m\u001B[38;5;124;43minterests\u001B[39;49m\u001B[38;5;124;43m'\u001B[39;49m\u001B[43m,\u001B[49m\u001B[38;5;124;43m'\u001B[39;49m\u001B[38;5;124;43msex\u001B[39;49m\u001B[38;5;124;43m'\u001B[39;49m\u001B[43m,\u001B[49m\u001B[38;5;124;43m'\u001B[39;49m\u001B[38;5;124;43mmovies\u001B[39;49m\u001B[38;5;124;43m'\u001B[39;49m\u001B[43m,\u001B[49m\u001B[38;5;124;43m'\u001B[39;49m\u001B[38;5;124;43mmusic\u001B[39;49m\u001B[38;5;124;43m'\u001B[39;49m\u001B[43m,\u001B[49m\u001B[38;5;124;43m'\u001B[39;49m\u001B[38;5;124;43mscreen_name\u001B[39;49m\u001B[38;5;124;43m'\u001B[39;49m\u001B[43m]\u001B[49m\u001B[43m)\u001B[49m\u001B[43m[\u001B[49m\u001B[38;5;241;43m0\u001B[39;49m\u001B[43m]\u001B[49m\u001B[43m[\u001B[49m\u001B[43m[\u001B[49m\u001B[38;5;124;43m'\u001B[39;49m\u001B[38;5;124;43mabout\u001B[39;49m\u001B[38;5;124;43m'\u001B[39;49m\u001B[43m,\u001B[49m\u001B[38;5;124;43m'\u001B[39;49m\u001B[38;5;124;43mactivities\u001B[39;49m\u001B[38;5;124;43m'\u001B[39;49m\u001B[43m,\u001B[49m\u001B[38;5;124;43m'\u001B[39;49m\u001B[38;5;124;43minterests\u001B[39;49m\u001B[38;5;124;43m'\u001B[39;49m\u001B[43m,\u001B[49m\u001B[38;5;124;43m'\u001B[39;49m\u001B[38;5;124;43msex\u001B[39;49m\u001B[38;5;124;43m'\u001B[39;49m\u001B[43m,\u001B[49m\u001B[38;5;124;43m'\u001B[39;49m\u001B[38;5;124;43mmovies\u001B[39;49m\u001B[38;5;124;43m'\u001B[39;49m\u001B[43m,\u001B[49m\u001B[38;5;124;43m'\u001B[39;49m\u001B[38;5;124;43mmusic\u001B[39;49m\u001B[38;5;124;43m'\u001B[39;49m\u001B[43m,\u001B[49m\u001B[38;5;124;43m'\u001B[39;49m\u001B[38;5;124;43mscreen_name\u001B[39;49m\u001B[38;5;124;43m'\u001B[39;49m\u001B[43m]\u001B[49m\u001B[43m]\u001B[49m\n\u001B[0;32m     53\u001B[0m     df[[\u001B[38;5;124m'\u001B[39m\u001B[38;5;124mabout\u001B[39m\u001B[38;5;124m'\u001B[39m,\u001B[38;5;124m'\u001B[39m\u001B[38;5;124mactivities\u001B[39m\u001B[38;5;124m'\u001B[39m,\u001B[38;5;124m'\u001B[39m\u001B[38;5;124minterests\u001B[39m\u001B[38;5;124m'\u001B[39m,\u001B[38;5;124m'\u001B[39m\u001B[38;5;124msex\u001B[39m\u001B[38;5;124m'\u001B[39m,\u001B[38;5;124m'\u001B[39m\u001B[38;5;124mmovies\u001B[39m\u001B[38;5;124m'\u001B[39m,\u001B[38;5;124m'\u001B[39m\u001B[38;5;124mmusic\u001B[39m\u001B[38;5;124m'\u001B[39m,\u001B[38;5;124m'\u001B[39m\u001B[38;5;124mscreen_name\u001B[39m\u001B[38;5;124m'\u001B[39m]]\u001B[38;5;241m=\u001B[39mdata_info\n",
      "\u001B[1;31mTypeError\u001B[0m: unhashable type: 'list'"
     ]
    }
   ],
   "source": [
    "df=pd.DataFrame()\n",
    "df_main=pd.DataFrame()\n",
    "\n",
    "def getGroups(user_id):\n",
    "    data_gr=api.groups.get(user_id=user_id,count=1000)\n",
    "    print(data_gr)\n",
    "    df[['Groups_Q','Groups_count']] = pd.json_normalize(data_gr)\n",
    "\n",
    "\n",
    "\n",
    "def getFriends(user_id):\n",
    "    data_fr=api.friends.get(user_id=user_id,count=1000)\n",
    "    print(data_fr)\n",
    "    df[['Friends_Q','friends_count']] = pd.json_normalize(data_fr)\n",
    "\n",
    "def getFollowers(user_id):\n",
    "    data_fol=api.users.getFollowers(user_id=user_id,count=1000)\n",
    "    df[['User_Folowers','user_f_ids']] = pd.json_normalize(data_fol)\n",
    "\n",
    "def getWall(owner_id):\n",
    "    data_wall=api.wall.get(owner_id=owner_id,count=1000)\n",
    "    df[['Wall_Q','Wall_count']]= pd.json_normalize(data_wall)\n",
    "\n",
    "\n",
    "    data_wall_owner=api.wall.get(owner_id=owner_id,count=1000,filter='owner')\n",
    "    df[['Wall_Q_owner','Wall_count_owner']]= pd.json_normalize(data_wall_owner)\n",
    "\n",
    "    data_wall_owner=api.wall.get(owner_id=owner_id,count=1000,filter='others')\n",
    "    df[['Wall_Q_others','Wall_count_others']]= pd.json_normalize(data_wall_owner)\n",
    "\n",
    "\n",
    "def getPhotos(owner_id):\n",
    "    data_photos_com=api.photos.getAllComments(owner_id=owner_id,count=100)['count']\n",
    "    df[['Photos_C']]= data_photos_com\n",
    "\n",
    "    comments_strings = []\n",
    "    comments = api.photos.getAllComments(owner_id=owner_id,count=100)['items']\n",
    "    comments_strings.append([comment['text'] for comment in comments])\n",
    "    df['comments_photo']=comments_strings\n",
    "\n",
    "def getStatus(owner_id):\n",
    "    data_status=api.status.get(owner_id=owner_id)\n",
    "    df[['Status_txt']]= pd.json_normalize(data_status)\n",
    "\n",
    "def getAvatar(user_id):\n",
    "    data_Avatar=api.users.get(user_ids=user_id,fields='has_photo')[0]['has_photo']\n",
    "    print(data_Avatar)\n",
    "    df['Avatar']=data_Avatar\n",
    "\n",
    "#Надо получить все что в fields(Пока только about получается)\n",
    "def getUserInfo(owner_id):\n",
    "    print(owner_id)\n",
    "    data_info=api.users.get(user_ids=owner_id,fields=['about','activities','interests','sex','movies','music','screen_name'])[0]['about']\n",
    "    df[['about','activities','interests','sex','movies','music','screen_name']]=data_info\n",
    "\n",
    "\n",
    "\n",
    "\n",
    "for user_id in users_ids:\n",
    "    print(user_id)\n",
    "    time.sleep(3)\n",
    "    getFriends(user_id)\n",
    "    getFollowers(user_id)\n",
    "    getGroups(user_id)\n",
    "    time.sleep(3)\n",
    "    getWall(user_id)\n",
    "    getPhotos(user_id)\n",
    "    getStatus(user_id)\n",
    "    time.sleep(3)\n",
    "    getAvatar(user_id)\n",
    "    getUserInfo(user_id)\n",
    "    df['user_id']=str(user_id)\n",
    "    df\n",
    "    df_main=pd.concat([df_main,df],ignore_index=True)\n",
    "df_main.head()\n"
   ],
   "metadata": {
    "collapsed": false
   }
  },
  {
   "cell_type": "code",
   "execution_count": 111,
   "outputs": [],
   "source": [],
   "metadata": {
    "collapsed": false
   }
  },
  {
   "cell_type": "code",
   "execution_count": 111,
   "outputs": [],
   "source": [],
   "metadata": {
    "collapsed": false
   }
  }
 ],
 "metadata": {
  "kernelspec": {
   "display_name": "Python 3",
   "language": "python",
   "name": "python3"
  },
  "language_info": {
   "codemirror_mode": {
    "name": "ipython",
    "version": 2
   },
   "file_extension": ".py",
   "mimetype": "text/x-python",
   "name": "python",
   "nbconvert_exporter": "python",
   "pygments_lexer": "ipython2",
   "version": "2.7.6"
  }
 },
 "nbformat": 4,
 "nbformat_minor": 0
}
